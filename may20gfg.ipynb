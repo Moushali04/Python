{
  "nbformat": 4,
  "nbformat_minor": 0,
  "metadata": {
    "colab": {
      "provenance": [],
      "authorship_tag": "ABX9TyM7AZAnvixt2a9HzQwgdHTu",
      "include_colab_link": true
    },
    "kernelspec": {
      "name": "python3",
      "display_name": "Python 3"
    },
    "language_info": {
      "name": "python"
    }
  },
  "cells": [
    {
      "cell_type": "markdown",
      "metadata": {
        "id": "view-in-github",
        "colab_type": "text"
      },
      "source": [
        "<a href=\"https://colab.research.google.com/github/Moushali04/Python/blob/main/may20gfg.ipynb\" target=\"_parent\"><img src=\"https://colab.research.google.com/assets/colab-badge.svg\" alt=\"Open In Colab\"/></a>"
      ]
    },
    {
      "cell_type": "code",
      "execution_count": null,
      "metadata": {
        "id": "qnnaPtrE1Zqa"
      },
      "outputs": [],
      "source": [
        "\n",
        "    def maxChunksToSorted(self, arr) -> int:\n",
        "        maxe=-1\n",
        "        chunks=0\n",
        "        for i,num in enumerate(arr):\n",
        "            maxe=max(maxe,num)\n",
        "            if (maxe==i):\n",
        "                chunks+=1\n",
        "        return chunks"
      ]
    },
    {
      "cell_type": "code",
      "source": [
        "class Solution:\n",
        "    def findPreSuc(self, root, key):\n",
        "        pre = None\n",
        "        suc = None\n",
        "        current = root\n",
        "\n",
        "        while current:\n",
        "            if current.data == key:\n",
        "                # Find predecessor (rightmost in left subtree)\n",
        "                if current.left:\n",
        "                    temp = current.left\n",
        "                    while temp.right:\n",
        "                        temp = temp.right\n",
        "                    pre = temp\n",
        "                # Find successor (leftmost in right subtree)\n",
        "                if current.right:\n",
        "                    temp = current.right\n",
        "                    while temp.left:\n",
        "                        temp = temp.left\n",
        "                    suc = temp\n",
        "                break  # key found, no need to continue\n",
        "            elif current.data > key:\n",
        "                suc = current\n",
        "                current = current.left\n",
        "            else:  # current.data < key\n",
        "                pre = current\n",
        "                current = current.right\n",
        "\n",
        "        return [pre, suc]"
      ],
      "metadata": {
        "id": "vTf9jS_OJ-0X"
      },
      "execution_count": null,
      "outputs": []
    },
    {
      "cell_type": "code",
      "source": [
        "class Node:\n",
        "    def __init__(self, val):\n",
        "        self.right = None\n",
        "        self.data = val\n",
        "        self.left = None\n",
        "\n",
        "\n",
        "class Solution:\n",
        "    def getCount(self, root, l, h):\n",
        "        if root is None:\n",
        "            return 0\n",
        "\n",
        "        # If current node is within range, count it and check both sides\n",
        "        if l <= root.data <= h:\n",
        "            return (1 +\n",
        "                    self.getCount(root.left, l, h) +\n",
        "                    self.getCount(root.right, l, h))\n",
        "\n",
        "        # If current node is less than l, prune the left subtree\n",
        "        elif root.data < l:\n",
        "            return self.getCount(root.right, l, h)\n",
        "\n",
        "        # If current node is greater than h, prune the right subtree\n",
        "        else:  # root.data > h\n",
        "            return self.getCount(root.left, l, h)\n"
      ],
      "metadata": {
        "id": "qwp95JasQbLE"
      },
      "execution_count": 4,
      "outputs": []
    }
  ]
}