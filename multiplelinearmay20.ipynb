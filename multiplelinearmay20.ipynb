{
  "nbformat": 4,
  "nbformat_minor": 0,
  "metadata": {
    "colab": {
      "provenance": [],
      "authorship_tag": "ABX9TyO5hLf1dwIzOM1bZgsjySFV",
      "include_colab_link": true
    },
    "kernelspec": {
      "name": "python3",
      "display_name": "Python 3"
    },
    "language_info": {
      "name": "python"
    }
  },
  "cells": [
    {
      "cell_type": "markdown",
      "metadata": {
        "id": "view-in-github",
        "colab_type": "text"
      },
      "source": [
        "<a href=\"https://colab.research.google.com/github/Moushali04/Python/blob/main/multiplelinearmay20.ipynb\" target=\"_parent\"><img src=\"https://colab.research.google.com/assets/colab-badge.svg\" alt=\"Open In Colab\"/></a>"
      ]
    },
    {
      "cell_type": "code",
      "execution_count": 11,
      "metadata": {
        "id": "NXFUyegL_zSI"
      },
      "outputs": [],
      "source": [
        "import numpy as np\n",
        "import pandas as pd\n",
        "from sklearn.model_selection import train_test_split\n",
        "from sklearn.linear_model import LinearRegression\n",
        "from sklearn.preprocessing import OneHotEncoder\n",
        "from sklearn.compose import ColumnTransformer\n",
        "import statsmodels.api as sm\n",
        "\n",
        "# Load dataset\n",
        "dataset = pd.read_csv('50_Startups.csv')\n",
        "X = dataset.iloc[:, :-1].values\n",
        "Y = dataset.iloc[:, -1].values\n",
        "\n",
        "# Encode categorical variable using OneHotEncoder and ColumnTransformer\n",
        "ct = ColumnTransformer(transformers=[('encoder', OneHotEncoder(drop='first'), [3])], remainder='passthrough')\n",
        "X = ct.fit_transform(X)\n",
        "\n",
        "# Split the dataset into Training and Test sets\n",
        "X_train, X_test, Y_train, Y_test = train_test_split(X, Y, test_size=0.2, random_state=0)\n",
        "\n",
        "# Fit Multiple Linear Regression model to training data\n",
        "regressor = LinearRegression()\n",
        "regressor.fit(X_train, Y_train)\n",
        "\n",
        "# Predict the test set results\n",
        "Y_pred = regressor.predict(X_test)\n",
        "\n",
        "# Add constant term for intercept to the feature matrix\n",
        "X_with_intercept = sm.add_constant(X)\n",
        "\n",
        "# Perform Backward Elimination\n",
        "X_opt = X_with_intercept\n",
        "cols = list(range(X_opt.shape[1]))\n",
        "\n"
      ]
    },
    {
      "cell_type": "code",
      "source": [
        "import numpy as np\n",
        "import statsmodels.api as sm\n",
        "\n",
        "# After your preprocessing and one-hot encoding, ensure:\n",
        "X = X.astype(float)\n",
        "Y = Y.astype(float)\n",
        "\n",
        "# Add intercept\n",
        "X_with_intercept = np.append(arr=np.ones((X.shape[0], 1)).astype(float), values=X, axis=1)\n",
        "\n",
        "cols = list(range(X_with_intercept.shape[1]))\n",
        "\n",
        "while True:\n",
        "    X_opt = X_with_intercept[:, cols]\n",
        "    model = sm.OLS(Y, X_opt).fit()\n",
        "    p_values = model.pvalues\n",
        "    max_p_value = max(p_values)\n",
        "\n",
        "    if max_p_value > 0.05:\n",
        "        excluded_feature = np.argmax(p_values)\n",
        "        cols.remove(cols[excluded_feature])\n",
        "    else:\n",
        "        break\n",
        "\n",
        "print(model.summary())\n"
      ],
      "metadata": {
        "colab": {
          "base_uri": "https://localhost:8080/"
        },
        "id": "NTfGrM6zCN7V",
        "outputId": "4f1235cb-7b88-4b42-cafd-65bcea5b85a0"
      },
      "execution_count": 17,
      "outputs": [
        {
          "output_type": "stream",
          "name": "stdout",
          "text": [
            "                            OLS Regression Results                            \n",
            "==============================================================================\n",
            "Dep. Variable:                      y   R-squared:                       0.947\n",
            "Model:                            OLS   Adj. R-squared:                  0.945\n",
            "Method:                 Least Squares   F-statistic:                     849.8\n",
            "Date:                Tue, 20 May 2025   Prob (F-statistic):           3.50e-32\n",
            "Time:                        10:03:28   Log-Likelihood:                -527.44\n",
            "No. Observations:                  50   AIC:                             1059.\n",
            "Df Residuals:                      48   BIC:                             1063.\n",
            "Df Model:                           1                                         \n",
            "Covariance Type:            nonrobust                                         \n",
            "==============================================================================\n",
            "                 coef    std err          t      P>|t|      [0.025      0.975]\n",
            "------------------------------------------------------------------------------\n",
            "const       4.903e+04   2537.897     19.320      0.000    4.39e+04    5.41e+04\n",
            "x1             0.8543      0.029     29.151      0.000       0.795       0.913\n",
            "==============================================================================\n",
            "Omnibus:                       13.727   Durbin-Watson:                   1.116\n",
            "Prob(Omnibus):                  0.001   Jarque-Bera (JB):               18.536\n",
            "Skew:                          -0.911   Prob(JB):                     9.44e-05\n",
            "Kurtosis:                       5.361   Cond. No.                     1.65e+05\n",
            "==============================================================================\n",
            "\n",
            "Notes:\n",
            "[1] Standard Errors assume that the covariance matrix of the errors is correctly specified.\n",
            "[2] The condition number is large, 1.65e+05. This might indicate that there are\n",
            "strong multicollinearity or other numerical problems.\n"
          ]
        }
      ]
    },
    {
      "cell_type": "code",
      "source": [],
      "metadata": {
        "id": "nkIWowe4CVP8"
      },
      "execution_count": 8,
      "outputs": []
    },
    {
      "cell_type": "code",
      "source": [],
      "metadata": {
        "id": "8UuRQOVdC6Ej"
      },
      "execution_count": 17,
      "outputs": []
    }
  ]
}